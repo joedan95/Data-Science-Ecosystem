{
 "cells": [
  {
   "cell_type": "markdown",
   "id": "b1824a6a-693c-43b4-80c3-6ff8d220ae28",
   "metadata": {},
   "source": [
    "# Data Science Tools and Ecosystem"
   ]
  },
  {
   "cell_type": "markdown",
   "id": "be7b2e83-3110-4f14-b245-2dbbd827c732",
   "metadata": {},
   "source": [
    "In this notebook, Data Science Tools and Ecostem are summarized."
   ]
  },
  {
   "cell_type": "markdown",
   "id": "370db960-9c07-4790-8553-8b4830941d7b",
   "metadata": {},
   "source": [
    "**Objectives**\n",
    "- List popular languages in data science\n",
    "- List commonly used libraries in data science\n",
    "- Create a single column chart\n",
    "- Create simple arithmetic expresions\n",
    "\n",
    "  "
   ]
  },
  {
   "cell_type": "markdown",
   "id": "4c6b6e2c-3395-4c71-a011-1934d85958d0",
   "metadata": {},
   "source": [
    "Some of the popular languages that Data Scientists use are:\n",
    "1. Python\n",
    "2. SQL\n",
    "3. R"
   ]
  },
  {
   "cell_type": "markdown",
   "id": "e7739aa2-8c6a-43f5-9914-608de82d50e1",
   "metadata": {},
   "source": [
    "Some of the commonly used libraries used by Data Scientists include:\n",
    "1. Matplotlib\n",
    "2. Pandas\n",
    "3. NumPy"
   ]
  },
  {
   "cell_type": "markdown",
   "id": "856f4523-3dba-4c24-a273-e88a4d89650c",
   "metadata": {},
   "source": [
    "|Data Science Tools|\n",
    "|-|\n",
    "|Apache Spark|\n",
    "|Apache Hadoop|\n",
    "|TensorFlow|"
   ]
  },
  {
   "cell_type": "markdown",
   "id": "f6004757-74c3-463b-8235-b4205ff82d71",
   "metadata": {},
   "source": [
    "### Below are a few examples of evaluating arimetic expressions in Python.\n"
   ]
  },
  {
   "cell_type": "markdown",
   "id": "4ac7dea0-5a17-4a76-8a04-e46b4dc312d4",
   "metadata": {},
   "source": [
    "This is a simple arithmetic expression to multiply then add integers. "
   ]
  },
  {
   "cell_type": "code",
   "execution_count": 109,
   "id": "629fcb95-a4b6-476e-a24c-b750d97226a0",
   "metadata": {},
   "outputs": [
    {
     "data": {
      "text/plain": [
       "17"
      ]
     },
     "execution_count": 109,
     "metadata": {},
     "output_type": "execute_result"
    }
   ],
   "source": [
    "(3*4)+5"
   ]
  },
  {
   "cell_type": "markdown",
   "id": "d03ae9d7-208e-4050-9c95-605bd18b9177",
   "metadata": {},
   "source": [
    "This will convert 200 minutes to hours by dividing by 60"
   ]
  },
  {
   "cell_type": "code",
   "execution_count": 111,
   "id": "3bb8ffcc-230e-48ad-9518-2ca647b90651",
   "metadata": {},
   "outputs": [
    {
     "name": "stdout",
     "output_type": "stream",
     "text": [
      "3 20\n"
     ]
    }
   ],
   "source": [
    "hours,minutes = divmod(200,60)\n",
    "print (hours,minutes)"
   ]
  },
  {
   "cell_type": "markdown",
   "id": "6ac0275b-32a0-4e69-9bba-878cc92fd44d",
   "metadata": {},
   "source": [
    "## Author\n",
    "Joseph Daniels"
   ]
  },
  {
   "cell_type": "code",
   "execution_count": null,
   "id": "a399491f-6393-464e-8797-020584e098df",
   "metadata": {},
   "outputs": [],
   "source": []
  }
 ],
 "metadata": {
  "kernelspec": {
   "display_name": "Python 3 (ipykernel)",
   "language": "python",
   "name": "python3"
  },
  "language_info": {
   "codemirror_mode": {
    "name": "ipython",
    "version": 3
   },
   "file_extension": ".py",
   "mimetype": "text/x-python",
   "name": "python",
   "nbconvert_exporter": "python",
   "pygments_lexer": "ipython3",
   "version": "3.12.4"
  }
 },
 "nbformat": 4,
 "nbformat_minor": 5
}
